{
 "cells": [
  {
   "cell_type": "markdown",
   "metadata": {
    "deletable": true,
    "editable": true
   },
   "source": [
    "# Machine Learning Engineer Nanodegree\n",
    "## Capstone Project"
   ]
  },
  {
   "cell_type": "code",
   "execution_count": 1,
   "metadata": {
    "collapsed": false,
    "deletable": true,
    "editable": true
   },
   "outputs": [],
   "source": [
    "import numpy as np\n",
    "import os\n",
    "import time\n",
    "import re\n",
    "import string\n",
    "from nltk.corpus import stopwords\n",
    "from sklearn.model_selection import train_test_split\n",
    "from sklearn.feature_extraction.text import TfidfVectorizer\n",
    "from sklearn.linear_model import LogisticRegression\n",
    "from sklearn.metrics import accuracy_score\n",
    "import matplotlib.pyplot as plt "
   ]
  },
  {
   "cell_type": "markdown",
   "metadata": {
    "deletable": true,
    "editable": true
   },
   "source": [
    "### Preprocess Data"
   ]
  },
  {
   "cell_type": "code",
   "execution_count": 2,
   "metadata": {
    "collapsed": true,
    "deletable": true,
    "editable": true
   },
   "outputs": [],
   "source": [
    "replacement_patterns = [\n",
    "    (r'won\\'t', 'will not'),\n",
    "    (r'can\\'t', 'cannot'),\n",
    "    (r'i\\'m', 'i am'),\n",
    "    (r'ain\\'t', 'is not'),\n",
    "    (r'(\\w+)\\'ll', '\\g<1> will'),\n",
    "    (r'(\\w+)n\\'t', '\\g<1> not'),\n",
    "    (r'(\\w+)\\'ve', '\\g<1> have'),\n",
    "    (r'(\\w+)\\'re', '\\g<1> are'),\n",
    "    (r'(\\w+)\\'d', '\\g<1> would')\n",
    "]\n",
    "\n",
    "class RegexpReplacer(object):\n",
    "    def __init__(self, patterns=replacement_patterns):\n",
    "        self.patterns = [(re.compile(regex), repl) for (regex, repl) in patterns]\n",
    "    def replace(self, text):\n",
    "        s = text\n",
    "        for (pattern, repl) in self.patterns:\n",
    "            (s, count) = re.subn(pattern, repl, s)\n",
    "        regex = re.compile('[%s]' % re.escape(string.punctuation))\n",
    "        s = regex.sub('', s)\n",
    "        return s"
   ]
  },
  {
   "cell_type": "code",
   "execution_count": 3,
   "metadata": {
    "collapsed": true,
    "deletable": true,
    "editable": true
   },
   "outputs": [],
   "source": [
    "# function for preprocessing the text\n",
    "def common_preprocessing(text):\n",
    "    '''\n",
    "    Includes common preprocessing tasks on text data -lowercasing, term expansion, spelling correction, repeated chars removal\n",
    "    '''\n",
    "    \n",
    "    # convert to lowercase\n",
    "    text = text.lower()\n",
    "    \n",
    "    # expand abbreviation, eg. won't -> will not, we've -> we have, etc\n",
    "    term_expander = RegexpReplacer()\n",
    "    text = term_expander.replace(text)\n",
    "    \n",
    "    # remove numbers and special characters\n",
    "    text = re.sub('[^A-Za-z ]+', '', text)\n",
    "    tokens = text.split()\n",
    "    \n",
    "    # remove Stopwords\n",
    "    tokens = [i for i in tokens if i not in stopwords.words('english')]\n",
    "    text = ' '.join(tokens)\n",
    "    return text"
   ]
  },
  {
   "cell_type": "code",
   "execution_count": 4,
   "metadata": {
    "collapsed": false,
    "deletable": true,
    "editable": true
   },
   "outputs": [],
   "source": [
    "# function for building the training and testing dataset\n",
    "def build_data(folder):\n",
    "    data = []\n",
    "    label = []\n",
    "    filelist1 = []\n",
    "    filelist2 = []\n",
    "    count1 = 1\n",
    "    count2 = 1\n",
    "    pos_path = '%s/pos' % (folder)\n",
    "    neg_path = '%s/neg' % (folder)\n",
    "    for root,dirs,files in os.walk(pos_path):\n",
    "        filelist1.extend(files)\n",
    "        break\n",
    "    for files in filelist1:\n",
    "        try:\n",
    "            f=open(pos_path + '/' + files, 'r')\n",
    "            for line in f:\n",
    "                data.append(common_preprocessing(line))\n",
    "                label.append('1')\n",
    "        except:\n",
    "            continue\n",
    "    print(len(data))        \n",
    "    \n",
    "    for root,dirs,files in os.walk(neg_path):\n",
    "        filelist2.extend(files)\n",
    "        break\n",
    "    for files in filelist2:\n",
    "        try:\n",
    "            f=open(neg_path + '/' + files, 'r') \n",
    "            for line in f:\n",
    "                data.append(common_preprocessing(line))\n",
    "                label.append('0')\n",
    "        except:\n",
    "            continue\n",
    "    print(len(data))          \n",
    "    \n",
    "    return data,label"
   ]
  },
  {
   "cell_type": "code",
   "execution_count": 5,
   "metadata": {
    "collapsed": false,
    "deletable": true,
    "editable": true
   },
   "outputs": [
    {
     "name": "stdout",
     "output_type": "stream",
     "text": [
      "12489\n",
      "24984\n",
      "2309.0333063602448\n"
     ]
    }
   ],
   "source": [
    "# get the train data and train labels\n",
    "start_time = time.time()\n",
    "train_data, train_label = build_data('train_data')\n",
    "print(time.time() - start_time)"
   ]
  },
  {
   "cell_type": "code",
   "execution_count": 6,
   "metadata": {
    "collapsed": false,
    "deletable": true,
    "editable": true
   },
   "outputs": [
    {
     "name": "stdout",
     "output_type": "stream",
     "text": [
      "12493\n",
      "24985\n",
      "2242.1974337100983\n"
     ]
    }
   ],
   "source": [
    "# get the test data and test labels\n",
    "start_time = time.time()\n",
    "test_data, test_label = build_data('test_data')\n",
    "print(time.time() - start_time)"
   ]
  },
  {
   "cell_type": "markdown",
   "metadata": {
    "deletable": true,
    "editable": true
   },
   "source": [
    "### Data Exploration"
   ]
  },
  {
   "cell_type": "code",
   "execution_count": 9,
   "metadata": {
    "collapsed": false,
    "deletable": true,
    "editable": true
   },
   "outputs": [
    {
     "name": "stdout",
     "output_type": "stream",
     "text": [
      "Review length: \n",
      "Mean 842.59 words\n"
     ]
    },
    {
     "data": {
      "image/png": "[encoded data removed]",
      "text/plain": [
       "<matplotlib.figure.Figure at 0xa807472da0>"
      ]
     },
     "metadata": {},
     "output_type": "display_data"
    }
   ],
   "source": [
    "# summrize review length\n",
    "print(\"Review length: \")\n",
    "result = [len(x) for x in train_data]\n",
    "print(\"Mean %.2f words\" % (np.mean(result)))\n",
    "\n",
    "fig = plt.figure(1, figsize=(9, 6))\n",
    "plt.boxplot(result)\n",
    "plt.xticks([1],['review_length'])\n",
    "plt.show()"
   ]
  },
  {
   "cell_type": "markdown",
   "metadata": {
    "deletable": true,
    "editable": true
   },
   "source": [
    "### Bench Mark Model"
   ]
  },
  {
   "cell_type": "code",
   "execution_count": 29,
   "metadata": {
    "collapsed": false,
    "deletable": true,
    "editable": true
   },
   "outputs": [],
   "source": [
    "# vectorize data using TF-IDF weights\n",
    "tfidf_vectorizer = TfidfVectorizer(ngram_range=(1, 2))\n",
    "X_train = tfidf_vectorizer.fit_transform(train_data) "
   ]
  },
  {
   "cell_type": "code",
   "execution_count": 30,
   "metadata": {
    "collapsed": false,
    "deletable": true,
    "editable": true
   },
   "outputs": [
    {
     "name": "stdout",
     "output_type": "stream",
     "text": [
      "The accuracy of the Logistic Regression model is 88.0%\n"
     ]
    }
   ],
   "source": [
    "# build a benmark model\n",
    "classifier =LogisticRegression().fit(X_train, train_label)\n",
    "score = accuracy_score(test_label, classifier.predict(tfidf_vectorizer.transform(test_data)))\n",
    "print(\"The accuracy of the Logistic Regression model is {0}%\".format(round(score*100,0)))"
   ]
  },
  {
   "cell_type": "markdown",
   "metadata": {
    "deletable": true,
    "editable": true
   },
   "source": [
    "### LSTM Model"
   ]
  },
  {
   "cell_type": "code",
   "execution_count": 10,
   "metadata": {
    "collapsed": false,
    "deletable": true,
    "editable": true
   },
   "outputs": [
    {
     "name": "stderr",
     "output_type": "stream",
     "text": [
      "Using TensorFlow backend.\n"
     ]
    }
   ],
   "source": [
    "from keras.preprocessing.sequence import pad_sequences\n",
    "from keras.preprocessing.text import Tokenizer\n",
    "from keras.models import Sequential\n",
    "from keras.layers import Conv1D, MaxPooling1D, Dense, Dropout, Embedding, LSTM\n",
    "from keras import optimizers\n",
    "from keras.callbacks import ModelCheckpoint\n",
    "\n",
    "tokenizer = Tokenizer(num_words=20000, split=' ')\n",
    "tokenizer.fit_on_texts(train_data)\n",
    "train_data_vec = tokenizer.texts_to_sequences(train_data)\n",
    "train_data_vec = pad_sequences(train_data_vec, maxlen=1000)"
   ]
  },
  {
   "cell_type": "code",
   "execution_count": 11,
   "metadata": {
    "collapsed": false,
    "deletable": true,
    "editable": true
   },
   "outputs": [
    {
     "name": "stdout",
     "output_type": "stream",
     "text": [
      "X_train shape: (14990, 1000)\n",
      "X_valid shape: (9994, 1000)\n"
     ]
    }
   ],
   "source": [
    "# split training and validation data\n",
    "X_train, X_valid, y_train, y_valid = train_test_split(train_data_vec, train_label, stratify=train_label, test_size = 0.4, random_state = 42)\n",
    "print('X_train shape:', X_train.shape)\n",
    "print('X_valid shape:', X_valid.shape)"
   ]
  },
  {
   "cell_type": "code",
   "execution_count": 23,
   "metadata": {
    "collapsed": false,
    "deletable": true,
    "editable": true
   },
   "outputs": [
    {
     "name": "stdout",
     "output_type": "stream",
     "text": [
      "_________________________________________________________________\n",
      "Layer (type)                 Output Shape              Param #   \n",
      "=================================================================\n",
      "embedding_3 (Embedding)      (None, 1000, 128)         2560000   \n",
      "_________________________________________________________________\n",
      "dropout_3 (Dropout)          (None, 1000, 128)         0         \n",
      "_________________________________________________________________\n",
      "lstm_3 (LSTM)                (None, 128)               131584    \n",
      "_________________________________________________________________\n",
      "dense_3 (Dense)              (None, 1)                 129       \n",
      "=================================================================\n",
      "Total params: 2,691,713.0\n",
      "Trainable params: 2,691,713.0\n",
      "Non-trainable params: 0.0\n",
      "_________________________________________________________________\n",
      "None\n"
     ]
    }
   ],
   "source": [
    "model = Sequential()\n",
    "model.add(Embedding(input_dim=20000, output_dim=128, input_length=train_data_vec.shape[1]))\n",
    "model.add(Dropout(0.2))\n",
    "model.add(LSTM(128, dropout=0.2, recurrent_dropout=0.2))\n",
    "model.add(Dense(1,activation='sigmoid'))\n",
    "model.compile(loss = 'binary_crossentropy', optimizer='rmsprop',metrics = ['accuracy'])\n",
    "print(model.summary())"
   ]
  },
  {
   "cell_type": "code",
   "execution_count": 24,
   "metadata": {
    "collapsed": false,
    "deletable": true,
    "editable": true
   },
   "outputs": [
    {
     "name": "stdout",
     "output_type": "stream",
     "text": [
      "Train on 14990 samples, validate on 9994 samples\n",
      "Epoch 1/3\n",
      "Epoch 00000: val_loss improved from inf to 0.33001, saving model to saved_model/lstm.hdf5\n",
      "5860s - loss: 0.4901 - acc: 0.7735 - val_loss: 0.3300 - val_acc: 0.8623\n",
      "Epoch 2/3\n",
      "Epoch 00001: val_loss did not improve\n",
      "6705s - loss: 0.2777 - acc: 0.8957 - val_loss: 0.3379 - val_acc: 0.8593\n",
      "Epoch 3/3\n",
      "Epoch 00002: val_loss improved from 0.33001 to 0.32836, saving model to saved_model/lstm.hdf5\n",
      "7202s - loss: 0.2070 - acc: 0.9262 - val_loss: 0.3284 - val_acc: 0.8837\n"
     ]
    },
    {
     "data": {
      "text/plain": [
       "<keras.callbacks.History at 0x1df114dd898>"
      ]
     },
     "execution_count": 24,
     "metadata": {},
     "output_type": "execute_result"
    }
   ],
   "source": [
    "epochs = 3\n",
    "checkpointer = ModelCheckpoint(filepath='saved_model/lstm.hdf5', verbose=1, save_best_only=True)\n",
    "\n",
    "model.fit(X_train, y_train, \n",
    "          validation_data=(X_valid, y_valid),\n",
    "          epochs=epochs, batch_size=128, callbacks=[checkpointer], verbose=2)"
   ]
  },
  {
   "cell_type": "code",
   "execution_count": 25,
   "metadata": {
    "collapsed": true,
    "deletable": true,
    "editable": true
   },
   "outputs": [],
   "source": [
    "model.load_weights('saved_model/lstm.hdf5')\n",
    "X_test = tokenizer.texts_to_sequences(test_data)\n",
    "X_test = pad_sequences(X_test, maxlen=1000)\n",
    "score = model.evaluate(X_test, test_label, verbose=0)"
   ]
  },
  {
   "cell_type": "code",
   "execution_count": 27,
   "metadata": {
    "collapsed": false,
    "deletable": true,
    "editable": true
   },
   "outputs": [
    {
     "name": "stdout",
     "output_type": "stream",
     "text": [
      "The accuracy of the LSTM model is 87.0%\n"
     ]
    }
   ],
   "source": [
    "print(\"The accuracy of the LSTM model is {0}%\".format(round(score[1]*100,0)))"
   ]
  },
  {
   "cell_type": "markdown",
   "metadata": {
    "collapsed": true,
    "deletable": true,
    "editable": true
   },
   "source": [
    "### Refined LSTM Model "
   ]
  },
  {
   "cell_type": "code",
   "execution_count": 93,
   "metadata": {
    "collapsed": true
   },
   "outputs": [],
   "source": [
    "tokenizer = Tokenizer(num_words=15000, split=' ')\n",
    "tokenizer.fit_on_texts(train_data)\n",
    "train_data_vec = tokenizer.texts_to_sequences(train_data)\n",
    "train_data_vec = pad_sequences(train_data_vec, maxlen=800)"
   ]
  },
  {
   "cell_type": "code",
   "execution_count": 94,
   "metadata": {
    "collapsed": false
   },
   "outputs": [
    {
     "name": "stdout",
     "output_type": "stream",
     "text": [
      "X_train shape: (12492, 800)\n",
      "X_valid shape: (12492, 800)\n"
     ]
    }
   ],
   "source": [
    "# split training and validation data\n",
    "X_train, X_valid, y_train, y_valid = train_test_split(train_data_vec, train_label, stratify=train_label, test_size = 0.5, random_state = 42)\n",
    "print('X_train shape:', X_train.shape)\n",
    "print('X_valid shape:', X_valid.shape)"
   ]
  },
  {
   "cell_type": "code",
   "execution_count": null,
   "metadata": {
    "collapsed": false,
    "deletable": true,
    "editable": true
   },
   "outputs": [
    {
     "name": "stdout",
     "output_type": "stream",
     "text": [
      "_________________________________________________________________\n",
      "Layer (type)                 Output Shape              Param #   \n",
      "=================================================================\n",
      "embedding_18 (Embedding)     (None, 800, 256)          5120000   \n",
      "_________________________________________________________________\n",
      "dropout_45 (Dropout)         (None, 800, 256)          0         \n",
      "_________________________________________________________________\n",
      "lstm_21 (LSTM)               (None, 800, 128)          197120    \n",
      "_________________________________________________________________\n",
      "lstm_22 (LSTM)               (None, 800, 128)          131584    \n",
      "_________________________________________________________________\n",
      "lstm_23 (LSTM)               (None, 128)               131584    \n",
      "_________________________________________________________________\n",
      "dropout_46 (Dropout)         (None, 128)               0         \n",
      "_________________________________________________________________\n",
      "dense_16 (Dense)             (None, 1)                 129       \n",
      "=================================================================\n",
      "Total params: 5,580,417.0\n",
      "Trainable params: 5,580,417.0\n",
      "Non-trainable params: 0.0\n",
      "_________________________________________________________________\n",
      "None\n"
     ]
    }
   ],
   "source": [
    "model = Sequential()\n",
    "model.add(Embedding(input_dim=20000, output_dim=256, input_length=train_data_vec.shape[1]))\n",
    "model.add(Dropout(0.2))\n",
    "# model.add(Conv1D(64, 2, activation='relu'))\n",
    "# model.add(MaxPooling1D(pool_size=2))\n",
    "# model.add(Dropout(0.3))\n",
    "model.add(LSTM(128, dropout=0.4, return_sequences=True))\n",
    "model.add(LSTM(128, dropout=0.4, return_sequences=True))\n",
    "model.add(LSTM(128, dropout=0.4))\n",
    "model.add(Dropout(0.5))\n",
    "model.add(Dense(1, activation='sigmoid'))\n",
    "\n",
    "rmsprop = optimizers.RMSprop(lr=0.0005, rho=0.9, epsilon=1e-08, decay=0.0)\n",
    "model.compile(loss = 'binary_crossentropy', optimizer=rmsprop, metrics = ['accuracy'])\n",
    "print(model.summary())"
   ]
  },
  {
   "cell_type": "code",
   "execution_count": null,
   "metadata": {
    "collapsed": false,
    "deletable": true,
    "editable": true
   },
   "outputs": [
    {
     "name": "stdout",
     "output_type": "stream",
     "text": [
      "Train on 12492 samples, validate on 12492 samples\n",
      "Epoch 1/10\n",
      "Epoch 00000: val_loss improved from inf to 0.34568, saving model to saved_model/lstm_conv.hdf5\n",
      "4144s - loss: 0.4579 - acc: 0.7806 - val_loss: 0.3457 - val_acc: 0.8555\n",
      "Epoch 2/10\n",
      "Epoch 00001: val_loss improved from 0.34568 to 0.29079, saving model to saved_model/lstm_conv.hdf5\n",
      "3481s - loss: 0.2637 - acc: 0.8982 - val_loss: 0.2908 - val_acc: 0.8791\n",
      "Epoch 3/10\n",
      "Epoch 00002: val_loss did not improve\n",
      "3900s - loss: 0.2115 - acc: 0.9226 - val_loss: 0.3126 - val_acc: 0.8793\n",
      "Epoch 4/10\n",
      "Epoch 00003: val_loss did not improve\n",
      "3864s - loss: 0.1749 - acc: 0.9356 - val_loss: 0.3014 - val_acc: 0.8812\n",
      "Epoch 5/10\n"
     ]
    }
   ],
   "source": [
    "epochs = 10\n",
    "checkpointer = ModelCheckpoint(filepath='saved_model/lstm_conv.hdf5', verbose=1, save_best_only=True)\n",
    "\n",
    "model.fit(X_train, y_train, \n",
    "          validation_data=(X_valid, y_valid),\n",
    "          epochs=epochs, batch_size=32, callbacks=[checkpointer], verbose=2)"
   ]
  },
  {
   "cell_type": "code",
   "execution_count": 91,
   "metadata": {
    "collapsed": false,
    "deletable": true,
    "editable": true
   },
   "outputs": [],
   "source": [
    "model.load_weights('saved_model/lstm_conv.hdf5')\n",
    "X_test = tokenizer.texts_to_sequences(test_data)\n",
    "X_test = pad_sequences(X_test, maxlen=1000)\n",
    "score = model.evaluate(X_test, test_label, verbose=0)"
   ]
  },
  {
   "cell_type": "code",
   "execution_count": 92,
   "metadata": {
    "collapsed": false,
    "deletable": true,
    "editable": true
   },
   "outputs": [
    {
     "data": {
      "text/plain": [
       "[0.34021845857143307, 0.86251751048006198]"
      ]
     },
     "execution_count": 92,
     "metadata": {},
     "output_type": "execute_result"
    }
   ],
   "source": [
    "score"
   ]
  },
  {
   "cell_type": "code",
   "execution_count": null,
   "metadata": {
    "collapsed": true
   },
   "outputs": [],
   "source": []
  }
 ],
 "metadata": {
  "anaconda-cloud": {},
  "kernelspec": {
   "display_name": "Python [conda env:aind-dog]",
   "language": "python",
   "name": "conda-env-aind-dog-py"
  },
  "language_info": {
   "codemirror_mode": {
    "name": "ipython",
    "version": 3
   },
   "file_extension": ".py",
   "mimetype": "text/x-python",
   "name": "python",
   "nbconvert_exporter": "python",
   "pygments_lexer": "ipython3",
   "version": "3.5.3"
  }
 },
 "nbformat": 4,
 "nbformat_minor": 2
}

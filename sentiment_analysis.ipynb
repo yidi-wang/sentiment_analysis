{
 "cells": [
  {
   "cell_type": "markdown",
   "metadata": {
    "deletable": true,
    "editable": true
   },
   "source": [
    "# Machine Learning Engineer Nanodegree\n",
    "## Capstone Project"
   ]
  },
  {
   "cell_type": "code",
   "execution_count": 1,
   "metadata": {
    "collapsed": false,
    "deletable": true,
    "editable": true
   },
   "outputs": [],
   "source": [
    "import numpy as np\n",
    "import pandas as pd\n",
    "import os\n",
    "import time\n",
    "import re\n",
    "import string\n",
    "from nltk.corpus import stopwords\n",
    "from sklearn.model_selection import train_test_split\n",
    "from sklearn.feature_extraction.text import TfidfVectorizer\n",
    "from sklearn.linear_model import LogisticRegression\n",
    "from sklearn.metrics import accuracy_score, f1_score\n",
    "import seaborn as sns\n",
    "import matplotlib.pyplot as plt \n",
    "%matplotlib inline  "
   ]
  },
  {
   "cell_type": "markdown",
   "metadata": {
    "deletable": true,
    "editable": true
   },
   "source": [
    "### Preprocess Data"
   ]
  },
  {
   "cell_type": "code",
   "execution_count": 2,
   "metadata": {
    "collapsed": true,
    "deletable": true,
    "editable": true
   },
   "outputs": [],
   "source": [
    "replacement_patterns = [\n",
    "    (r'won\\'t', 'will not'),\n",
    "    (r'can\\'t', 'cannot'),\n",
    "    (r'i\\'m', 'i am'),\n",
    "    (r'ain\\'t', 'is not'),\n",
    "    (r'(\\w+)\\'ll', '\\g<1> will'),\n",
    "    (r'(\\w+)n\\'t', '\\g<1> not'),\n",
    "    (r'(\\w+)\\'ve', '\\g<1> have'),\n",
    "    (r'(\\w+)\\'re', '\\g<1> are'),\n",
    "    (r'(\\w+)\\'d', '\\g<1> would')\n",
    "]\n",
    "\n",
    "class RegexpReplacer(object):\n",
    "    def __init__(self, patterns=replacement_patterns):\n",
    "        self.patterns = [(re.compile(regex), repl) for (regex, repl) in patterns]\n",
    "    def replace(self, text):\n",
    "        s = text\n",
    "        for (pattern, repl) in self.patterns:\n",
    "            (s, count) = re.subn(pattern, repl, s)\n",
    "        regex = re.compile('[%s]' % re.escape(string.punctuation))\n",
    "        s = regex.sub('', s)\n",
    "        return s"
   ]
  },
  {
   "cell_type": "code",
   "execution_count": 3,
   "metadata": {
    "collapsed": true,
    "deletable": true,
    "editable": true
   },
   "outputs": [],
   "source": [
    "# function for preprocessing the text\n",
    "def common_preprocessing(text):\n",
    "    '''\n",
    "    Includes common preprocessing tasks on text data -lowercasing, term expansion, spelling correction, repeated chars removal\n",
    "    '''\n",
    "    \n",
    "    # convert to lowercase\n",
    "    text = text.lower()\n",
    "    \n",
    "    # expand abbreviation, eg. won't -> will not, we've -> we have, etc\n",
    "    term_expander = RegexpReplacer()\n",
    "    text = term_expander.replace(text)\n",
    "    \n",
    "    # remove numbers and special characters\n",
    "    text = re.sub('[^A-Za-z ]+', '', text)\n",
    "    tokens = text.split()\n",
    "    \n",
    "    # remove stopwords\n",
    "    tokens = [i for i in tokens if i not in stopwords.words('english')]\n",
    "    text = ' '.join(tokens)\n",
    "    return text"
   ]
  },
  {
   "cell_type": "code",
   "execution_count": 4,
   "metadata": {
    "collapsed": false,
    "deletable": true,
    "editable": true
   },
   "outputs": [],
   "source": [
    "# function for building the training and testing dataset\n",
    "def build_data(folder):\n",
    "    data = []\n",
    "    label = []\n",
    "    filelist1 = []\n",
    "    filelist2 = []\n",
    "    count1 = 1\n",
    "    count2 = 1\n",
    "    pos_path = '%s/pos' % (folder)\n",
    "    neg_path = '%s/neg' % (folder)\n",
    "    for root,dirs,files in os.walk(pos_path):\n",
    "        filelist1.extend(files)\n",
    "        break\n",
    "    for files in filelist1:\n",
    "        try:\n",
    "            f=open(pos_path + '/' + files, 'r')\n",
    "            for line in f:\n",
    "                data.append(common_preprocessing(line))\n",
    "                label.append('1')\n",
    "        except:\n",
    "            continue\n",
    "    print(len(data))        \n",
    "    \n",
    "    for root,dirs,files in os.walk(neg_path):\n",
    "        filelist2.extend(files)\n",
    "        break\n",
    "    for files in filelist2:\n",
    "        try:\n",
    "            f=open(neg_path + '/' + files, 'r') \n",
    "            for line in f:\n",
    "                data.append(common_preprocessing(line))\n",
    "                label.append('0')\n",
    "        except:\n",
    "            continue\n",
    "    print(len(data))          \n",
    "    \n",
    "    return data,label"
   ]
  },
  {
   "cell_type": "code",
   "execution_count": 5,
   "metadata": {
    "collapsed": false,
    "deletable": true,
    "editable": true
   },
   "outputs": [
    {
     "name": "stdout",
     "output_type": "stream",
     "text": [
      "12489\n",
      "24984\n",
      "2497.5356690883636\n"
     ]
    }
   ],
   "source": [
    "# get the train data and train labels\n",
    "start_time = time.time()\n",
    "train_data, train_label = build_data('train_data')\n",
    "print(time.time() - start_time)"
   ]
  },
  {
   "cell_type": "code",
   "execution_count": 6,
   "metadata": {
    "collapsed": false,
    "deletable": true,
    "editable": true
   },
   "outputs": [
    {
     "name": "stdout",
     "output_type": "stream",
     "text": [
      "12493\n",
      "24985\n",
      "2569.938994407654\n"
     ]
    }
   ],
   "source": [
    "# get the test data and test labels\n",
    "start_time = time.time()\n",
    "test_data, test_label = build_data('test_data')\n",
    "print(time.time() - start_time)"
   ]
  },
  {
   "cell_type": "markdown",
   "metadata": {
    "deletable": true,
    "editable": true
   },
   "source": [
    "### Data Exploration"
   ]
  },
  {
   "cell_type": "code",
   "execution_count": 8,
   "metadata": {
    "collapsed": false,
    "deletable": true,
    "editable": true
   },
   "outputs": [
    {
     "name": "stdout",
     "output_type": "stream",
     "text": [
      "Review length: \n",
      "Mean 842.59 words\n",
      "Standard deviation 652.49 words\n"
     ]
    }
   ],
   "source": [
    "# summrize review length\n",
    "print(\"Review length: \")\n",
    "result = [len(x) for x in train_data]\n",
    "print(\"Mean %.2f words\" % (np.mean(result)))\n",
    "print(\"Standard deviation %.2f words\" % (np.std(result)))"
   ]
  },
  {
   "cell_type": "code",
   "execution_count": 10,
   "metadata": {
    "collapsed": false
   },
   "outputs": [
    {
     "data": {
      "text/plain": [
       "([<matplotlib.axis.XTick at 0xcac4ec7048>,\n",
       "  <matplotlib.axis.XTick at 0xcac4eb2e10>],\n",
       " <a list of 2 Text xticklabel objects>)"
      ]
     },
     "execution_count": 10,
     "metadata": {},
     "output_type": "execute_result"
    },
    {
     "data": {
      "image/png": "[encoded data removed]",
      "text/plain": [
       "<matplotlib.figure.Figure at 0xcabebc80f0>"
      ]
     },
     "metadata": {},
     "output_type": "display_data"
    }
   ],
   "source": [
    "import pandas as pd\n",
    "import seaborn as sns\n",
    "\n",
    "df = pd.DataFrame({'review_length':result, 'label':train_label})\n",
    "\n",
    "fig = plt.figure(1, figsize=(9, 6))\n",
    "sns.violinplot(x=\"label\", y=\"review_length\", data=df, palette=\"Set3\")\n",
    "plt.xticks([0,1],['negative_reviews', 'positive_reviews'])"
   ]
  },
  {
   "cell_type": "markdown",
   "metadata": {
    "deletable": true,
    "editable": true
   },
   "source": [
    "### Bench Mark Model"
   ]
  },
  {
   "cell_type": "code",
   "execution_count": 9,
   "metadata": {
    "collapsed": false,
    "deletable": true,
    "editable": true
   },
   "outputs": [],
   "source": [
    "# vectorize data using TF-IDF weights\n",
    "tfidf_vectorizer = TfidfVectorizer(ngram_range=(1, 2))\n",
    "X_train = tfidf_vectorizer.fit_transform(train_data) "
   ]
  },
  {
   "cell_type": "code",
   "execution_count": 10,
   "metadata": {
    "collapsed": false,
    "deletable": true,
    "editable": true
   },
   "outputs": [
    {
     "name": "stdout",
     "output_type": "stream",
     "text": [
      "The accuracy of the Logistic Regression model is 87.9%\n",
      "The F1 score of the Logistic Regression model is 0.9\n"
     ]
    }
   ],
   "source": [
    "# build a benmark model\n",
    "classifier =LogisticRegression().fit(X_train, train_label)\n",
    "score = accuracy_score(test_label, classifier.predict(tfidf_vectorizer.transform(test_data)))\n",
    "f1 = f1_score(test_label, classifier.predict(tfidf_vectorizer.transform(test_data)), pos_label='1')\n",
    "print(\"The accuracy of the Logistic Regression model is {0}%\".format(round(score*100,1)))\n",
    "print(\"The F1 score of the Logistic Regression model is {0}\".format(round(f1,1)))"
   ]
  },
  {
   "cell_type": "markdown",
   "metadata": {
    "deletable": true,
    "editable": true
   },
   "source": [
    "### LSTM Model"
   ]
  },
  {
   "cell_type": "code",
   "execution_count": 12,
   "metadata": {
    "collapsed": false,
    "deletable": true,
    "editable": true
   },
   "outputs": [
    {
     "name": "stderr",
     "output_type": "stream",
     "text": [
      "Using TensorFlow backend.\n"
     ]
    }
   ],
   "source": [
    "from keras.preprocessing.sequence import pad_sequences\n",
    "from keras.preprocessing.text import Tokenizer\n",
    "from keras.models import Sequential\n",
    "from keras.layers import Conv1D, MaxPooling1D, Dense, Dropout, Embedding, LSTM\n",
    "from keras import optimizers\n",
    "from keras.callbacks import ModelCheckpoint\n",
    "\n",
    "tokenizer = Tokenizer(num_words=20000, split=' ')\n",
    "tokenizer.fit_on_texts(train_data)\n",
    "train_data_vec = tokenizer.texts_to_sequences(train_data)\n",
    "train_data_vec = pad_sequences(train_data_vec, maxlen=1000)"
   ]
  },
  {
   "cell_type": "code",
   "execution_count": 11,
   "metadata": {
    "collapsed": false,
    "deletable": true,
    "editable": true
   },
   "outputs": [
    {
     "name": "stdout",
     "output_type": "stream",
     "text": [
      "X_train shape: (14990, 1000)\n",
      "X_valid shape: (9994, 1000)\n"
     ]
    }
   ],
   "source": [
    "# split training and validation data\n",
    "X_train, X_valid, y_train, y_valid = train_test_split(train_data_vec, train_label, stratify=train_label, test_size = 0.4, random_state = 42)\n",
    "print('X_train shape:', X_train.shape)\n",
    "print('X_valid shape:', X_valid.shape)"
   ]
  },
  {
   "cell_type": "code",
   "execution_count": 23,
   "metadata": {
    "collapsed": false,
    "deletable": true,
    "editable": true
   },
   "outputs": [
    {
     "name": "stdout",
     "output_type": "stream",
     "text": [
      "_________________________________________________________________\n",
      "Layer (type)                 Output Shape              Param #   \n",
      "=================================================================\n",
      "embedding_3 (Embedding)      (None, 1000, 128)         2560000   \n",
      "_________________________________________________________________\n",
      "dropout_3 (Dropout)          (None, 1000, 128)         0         \n",
      "_________________________________________________________________\n",
      "lstm_3 (LSTM)                (None, 128)               131584    \n",
      "_________________________________________________________________\n",
      "dense_3 (Dense)              (None, 1)                 129       \n",
      "=================================================================\n",
      "Total params: 2,691,713.0\n",
      "Trainable params: 2,691,713.0\n",
      "Non-trainable params: 0.0\n",
      "_________________________________________________________________\n",
      "None\n"
     ]
    }
   ],
   "source": [
    "model = Sequential()\n",
    "model.add(Embedding(input_dim=20000, output_dim=128, input_length=train_data_vec.shape[1]))\n",
    "model.add(Dropout(0.2))\n",
    "model.add(LSTM(128, dropout=0.2, recurrent_dropout=0.2))\n",
    "model.add(Dense(1,activation='sigmoid'))\n",
    "model.compile(loss = 'binary_crossentropy', optimizer='rmsprop',metrics = ['accuracy'])\n",
    "print(model.summary())"
   ]
  },
  {
   "cell_type": "code",
   "execution_count": 24,
   "metadata": {
    "collapsed": false,
    "deletable": true,
    "editable": true
   },
   "outputs": [
    {
     "name": "stdout",
     "output_type": "stream",
     "text": [
      "Train on 14990 samples, validate on 9994 samples\n",
      "Epoch 1/3\n",
      "Epoch 00000: val_loss improved from inf to 0.33001, saving model to saved_model/lstm.hdf5\n",
      "5860s - loss: 0.4901 - acc: 0.7735 - val_loss: 0.3300 - val_acc: 0.8623\n",
      "Epoch 2/3\n",
      "Epoch 00001: val_loss did not improve\n",
      "6705s - loss: 0.2777 - acc: 0.8957 - val_loss: 0.3379 - val_acc: 0.8593\n",
      "Epoch 3/3\n",
      "Epoch 00002: val_loss improved from 0.33001 to 0.32836, saving model to saved_model/lstm.hdf5\n",
      "7202s - loss: 0.2070 - acc: 0.9262 - val_loss: 0.3284 - val_acc: 0.8837\n"
     ]
    },
    {
     "data": {
      "text/plain": [
       "<keras.callbacks.History at 0x1df114dd898>"
      ]
     },
     "execution_count": 24,
     "metadata": {},
     "output_type": "execute_result"
    }
   ],
   "source": [
    "epochs = 3\n",
    "checkpointer = ModelCheckpoint(filepath='saved_model/lstm.hdf5', verbose=1, save_best_only=True)\n",
    "\n",
    "model.fit(X_train, y_train, \n",
    "          validation_data=(X_valid, y_valid),\n",
    "          epochs=epochs, batch_size=128, callbacks=[checkpointer], verbose=2)"
   ]
  },
  {
   "cell_type": "code",
   "execution_count": 25,
   "metadata": {
    "collapsed": true,
    "deletable": true,
    "editable": true
   },
   "outputs": [],
   "source": [
    "model.load_weights('saved_model/lstm.hdf5')\n",
    "X_test = tokenizer.texts_to_sequences(test_data)\n",
    "X_test = pad_sequences(X_test, maxlen=1000)\n",
    "score = model.evaluate(X_test, test_label, verbose=0)"
   ]
  },
  {
   "cell_type": "code",
   "execution_count": 27,
   "metadata": {
    "collapsed": false,
    "deletable": true,
    "editable": true
   },
   "outputs": [
    {
     "name": "stdout",
     "output_type": "stream",
     "text": [
      "The accuracy of the LSTM model is 87.0%\n"
     ]
    }
   ],
   "source": [
    "print(\"The accuracy of the LSTM model is {0}%\".format(round(score[1]*100,1)))"
   ]
  },
  {
   "cell_type": "markdown",
   "metadata": {
    "collapsed": true,
    "deletable": true,
    "editable": true
   },
   "source": [
    "### Refined LSTM Model "
   ]
  },
  {
   "cell_type": "code",
   "execution_count": 13,
   "metadata": {
    "collapsed": false,
    "deletable": true,
    "editable": true
   },
   "outputs": [],
   "source": [
    "tokenizer = Tokenizer(num_words=10000, split=' ')\n",
    "tokenizer.fit_on_texts(train_data)\n",
    "train_data_vec = tokenizer.texts_to_sequences(train_data)\n",
    "train_data_vec = pad_sequences(train_data_vec, maxlen=800)\n",
    "test_data_vec = tokenizer.texts_to_sequences(test_data)\n",
    "test_data_vec = pad_sequences(test_data_vec, maxlen=800)"
   ]
  },
  {
   "cell_type": "code",
   "execution_count": 16,
   "metadata": {
    "collapsed": false,
    "deletable": true,
    "editable": true
   },
   "outputs": [],
   "source": [
    "word_index = tokenizer.word_index"
   ]
  },
  {
   "cell_type": "code",
   "execution_count": 17,
   "metadata": {
    "collapsed": false,
    "deletable": true,
    "editable": true
   },
   "outputs": [],
   "source": [
    "# load pre-trained word embeddings (GloVe embeddings: http://nlp.stanford.edu/data/glove.6B.zip)\n",
    "\n",
    "embeddings_index = {}\n",
    "\n",
    "f = open('saved_model/glove.6B/glove.6B.100d.txt', encoding=\"utf8\")\n",
    "for line in f:\n",
    "    values = line.split()\n",
    "    word = values[0]\n",
    "    coefs = np.asarray(values[1:], dtype='float32')\n",
    "    embeddings_index[word] = coefs\n",
    "f.close()"
   ]
  },
  {
   "cell_type": "code",
   "execution_count": 18,
   "metadata": {
    "collapsed": false,
    "deletable": true,
    "editable": true
   },
   "outputs": [],
   "source": [
    "# create embedding layer\n",
    "\n",
    "embedding_matrix = np.zeros((10000, 100))\n",
    "\n",
    "for word, i in word_index.items():\n",
    "    if i >= 10000:\n",
    "        continue\n",
    "    embedding_vector = embeddings_index.get(word)\n",
    "    if embedding_vector is not None:\n",
    "        embedding_matrix[i] = embedding_vector\n",
    "    else:\n",
    "        embedding_matrix[i] = np.random.normal(scale=0.6, size=(100,))"
   ]
  },
  {
   "cell_type": "code",
   "execution_count": 19,
   "metadata": {
    "collapsed": false,
    "deletable": true,
    "editable": true
   },
   "outputs": [
    {
     "name": "stdout",
     "output_type": "stream",
     "text": [
      "_________________________________________________________________\n",
      "Layer (type)                 Output Shape              Param #   \n",
      "=================================================================\n",
      "embedding_1 (Embedding)      (None, 800, 100)          1000000   \n",
      "_________________________________________________________________\n",
      "dropout_1 (Dropout)          (None, 800, 100)          0         \n",
      "_________________________________________________________________\n",
      "conv1d_1 (Conv1D)            (None, 796, 64)           32064     \n",
      "_________________________________________________________________\n",
      "max_pooling1d_1 (MaxPooling1 (None, 398, 64)           0         \n",
      "_________________________________________________________________\n",
      "dropout_2 (Dropout)          (None, 398, 64)           0         \n",
      "_________________________________________________________________\n",
      "lstm_1 (LSTM)                (None, 128)               98816     \n",
      "_________________________________________________________________\n",
      "dropout_3 (Dropout)          (None, 128)               0         \n",
      "_________________________________________________________________\n",
      "dense_1 (Dense)              (None, 1)                 129       \n",
      "=================================================================\n",
      "Total params: 1,131,009.0\n",
      "Trainable params: 1,131,009.0\n",
      "Non-trainable params: 0.0\n",
      "_________________________________________________________________\n",
      "None\n"
     ]
    }
   ],
   "source": [
    "from keras import regularizers\n",
    "\n",
    "model = Sequential()\n",
    "model.add(Embedding(input_dim=10000, output_dim=100, weights=[embedding_matrix], input_length=800,\n",
    "                    embeddings_regularizer=regularizers.l2(0.000001)))\n",
    "model.add(Dropout(0.25))\n",
    "model.add(Conv1D(64, 5, activation='relu'))       \n",
    "model.add(MaxPooling1D())\n",
    "model.add(Dropout(0.25))\n",
    "model.add(LSTM(128, dropout=0.4))\n",
    "model.add(Dropout(0.5))\n",
    "model.add(Dense(1, activation='sigmoid'))\n",
    "\n",
    "rmsprop = optimizers.RMSprop(lr=0.0001, rho=0.9, epsilon=1e-08, decay=0.0)\n",
    "model.compile(loss = 'binary_crossentropy', optimizer=rmsprop, metrics = ['accuracy'])\n",
    "print(model.summary())"
   ]
  },
  {
   "cell_type": "code",
   "execution_count": 209,
   "metadata": {
    "collapsed": false,
    "deletable": true,
    "editable": true
   },
   "outputs": [
    {
     "name": "stdout",
     "output_type": "stream",
     "text": [
      "Train on 24984 samples, validate on 24985 samples\n",
      "Epoch 1/50\n",
      "Epoch 00000: val_loss improved from inf to 0.72184, saving model to saved_model/lstm_conv.hdf5\n",
      "2844s - loss: 0.8463 - acc: 0.6864 - val_loss: 0.7218 - val_acc: 0.7904\n",
      "Epoch 2/50\n",
      "Epoch 00001: val_loss improved from 0.72184 to 0.65614, saving model to saved_model/lstm_conv.hdf5\n",
      "2740s - loss: 0.7180 - acc: 0.7868 - val_loss: 0.6561 - val_acc: 0.8240\n",
      "Epoch 3/50\n",
      "Epoch 00002: val_loss improved from 0.65614 to 0.62130, saving model to saved_model/lstm_conv.hdf5\n",
      "2725s - loss: 0.6704 - acc: 0.8123 - val_loss: 0.6213 - val_acc: 0.8411\n",
      "Epoch 4/50\n",
      "Epoch 00003: val_loss did not improve\n",
      "2705s - loss: 0.6379 - acc: 0.8276 - val_loss: 0.6302 - val_acc: 0.8273\n",
      "Epoch 5/50\n",
      "Epoch 00004: val_loss improved from 0.62130 to 0.58488, saving model to saved_model/lstm_conv.hdf5\n",
      "2780s - loss: 0.6146 - acc: 0.8401 - val_loss: 0.5849 - val_acc: 0.8582\n",
      "Epoch 6/50\n",
      "Epoch 00005: val_loss improved from 0.58488 to 0.55920, saving model to saved_model/lstm_conv.hdf5\n",
      "2749s - loss: 0.5931 - acc: 0.8470 - val_loss: 0.5592 - val_acc: 0.8637\n",
      "Epoch 7/50\n",
      "Epoch 00006: val_loss improved from 0.55920 to 0.54316, saving model to saved_model/lstm_conv.hdf5\n",
      "2751s - loss: 0.5761 - acc: 0.8563 - val_loss: 0.5432 - val_acc: 0.8666\n",
      "Epoch 8/50\n",
      "Epoch 00007: val_loss improved from 0.54316 to 0.54310, saving model to saved_model/lstm_conv.hdf5\n",
      "2665s - loss: 0.5624 - acc: 0.8578 - val_loss: 0.5431 - val_acc: 0.8706\n",
      "Epoch 9/50\n",
      "Epoch 00008: val_loss improved from 0.54310 to 0.53625, saving model to saved_model/lstm_conv.hdf5\n",
      "2678s - loss: 0.5449 - acc: 0.8667 - val_loss: 0.5362 - val_acc: 0.8634\n",
      "Epoch 10/50\n",
      "Epoch 00009: val_loss improved from 0.53625 to 0.51380, saving model to saved_model/lstm_conv.hdf5\n",
      "2791s - loss: 0.5345 - acc: 0.8678 - val_loss: 0.5138 - val_acc: 0.8772\n",
      "Epoch 11/50\n",
      "Epoch 00010: val_loss improved from 0.51380 to 0.51313, saving model to saved_model/lstm_conv.hdf5\n",
      "2699s - loss: 0.5206 - acc: 0.8740 - val_loss: 0.5131 - val_acc: 0.8744\n",
      "Epoch 12/50\n",
      "Epoch 00011: val_loss improved from 0.51313 to 0.49974, saving model to saved_model/lstm_conv.hdf5\n",
      "2630s - loss: 0.5066 - acc: 0.8772 - val_loss: 0.4997 - val_acc: 0.8784\n",
      "Epoch 13/50\n",
      "Epoch 00012: val_loss did not improve\n",
      "2624s - loss: 0.4965 - acc: 0.8806 - val_loss: 0.5122 - val_acc: 0.8721\n",
      "Epoch 14/50\n",
      "Epoch 00013: val_loss improved from 0.49974 to 0.48100, saving model to saved_model/lstm_conv.hdf5\n",
      "2627s - loss: 0.4880 - acc: 0.8827 - val_loss: 0.4810 - val_acc: 0.8840\n",
      "Epoch 15/50\n",
      "Epoch 00014: val_loss improved from 0.48100 to 0.47883, saving model to saved_model/lstm_conv.hdf5\n",
      "2624s - loss: 0.4777 - acc: 0.8858 - val_loss: 0.4788 - val_acc: 0.8827\n",
      "Epoch 16/50\n",
      "Epoch 00015: val_loss did not improve\n",
      "2696s - loss: 0.4693 - acc: 0.8901 - val_loss: 0.4850 - val_acc: 0.8798\n",
      "Epoch 17/50\n",
      "Epoch 00016: val_loss did not improve\n",
      "2619s - loss: 0.4627 - acc: 0.8913 - val_loss: 0.4810 - val_acc: 0.8796\n",
      "Epoch 18/50\n",
      "Epoch 00017: val_loss improved from 0.47883 to 0.46158, saving model to saved_model/lstm_conv.hdf5\n",
      "2621s - loss: 0.4523 - acc: 0.8941 - val_loss: 0.4616 - val_acc: 0.8867\n",
      "Epoch 19/50\n",
      "Epoch 00018: val_loss improved from 0.46158 to 0.45696, saving model to saved_model/lstm_conv.hdf5\n",
      "2619s - loss: 0.4444 - acc: 0.8955 - val_loss: 0.4570 - val_acc: 0.8877\n",
      "Epoch 20/50\n",
      "Epoch 00019: val_loss did not improve\n",
      "2624s - loss: 0.4394 - acc: 0.8977 - val_loss: 0.4602 - val_acc: 0.8853\n",
      "Epoch 21/50\n",
      "Epoch 00020: val_loss improved from 0.45696 to 0.45502, saving model to saved_model/lstm_conv.hdf5\n",
      "2701s - loss: 0.4328 - acc: 0.8969 - val_loss: 0.4550 - val_acc: 0.8854\n",
      "Epoch 22/50\n",
      "Epoch 00021: val_loss improved from 0.45502 to 0.44809, saving model to saved_model/lstm_conv.hdf5\n",
      "2742s - loss: 0.4236 - acc: 0.9002 - val_loss: 0.4481 - val_acc: 0.8897\n",
      "Epoch 23/50\n",
      "Epoch 00022: val_loss improved from 0.44809 to 0.44225, saving model to saved_model/lstm_conv.hdf5\n",
      "2542s - loss: 0.4167 - acc: 0.9029 - val_loss: 0.4422 - val_acc: 0.8906\n",
      "Epoch 24/50\n",
      "Epoch 00023: val_loss improved from 0.44225 to 0.44050, saving model to saved_model/lstm_conv.hdf5\n",
      "2744s - loss: 0.4056 - acc: 0.9057 - val_loss: 0.4405 - val_acc: 0.8897\n",
      "Epoch 25/50\n",
      "Epoch 00024: val_loss improved from 0.44050 to 0.43805, saving model to saved_model/lstm_conv.hdf5\n",
      "2768s - loss: 0.4051 - acc: 0.9056 - val_loss: 0.4380 - val_acc: 0.8890\n",
      "Epoch 26/50\n",
      "Epoch 00025: val_loss improved from 0.43805 to 0.42963, saving model to saved_model/lstm_conv.hdf5\n",
      "2759s - loss: 0.3954 - acc: 0.9102 - val_loss: 0.4296 - val_acc: 0.8927\n",
      "Epoch 27/50\n",
      "Epoch 00026: val_loss did not improve\n",
      "2770s - loss: 0.3922 - acc: 0.9097 - val_loss: 0.4300 - val_acc: 0.8904\n",
      "Epoch 28/50\n",
      "Epoch 00027: val_loss did not improve\n",
      "2761s - loss: 0.3844 - acc: 0.9118 - val_loss: 0.4408 - val_acc: 0.8858\n",
      "Epoch 29/50\n",
      "Epoch 00028: val_loss did not improve\n",
      "2753s - loss: 0.3804 - acc: 0.9103 - val_loss: 0.4309 - val_acc: 0.8916\n",
      "Epoch 30/50\n",
      "Epoch 00029: val_loss improved from 0.42963 to 0.41927, saving model to saved_model/lstm_conv.hdf5\n",
      "2668s - loss: 0.3751 - acc: 0.9134 - val_loss: 0.4193 - val_acc: 0.8923\n",
      "Epoch 31/50\n",
      "Epoch 00030: val_loss did not improve\n",
      "2574s - loss: 0.3696 - acc: 0.9161 - val_loss: 0.4659 - val_acc: 0.8758\n",
      "Epoch 32/50\n",
      "Epoch 00031: val_loss did not improve\n",
      "2769s - loss: 0.3608 - acc: 0.9171 - val_loss: 0.4238 - val_acc: 0.8907\n",
      "Epoch 33/50\n",
      "Epoch 00032: val_loss did not improve\n",
      "2821s - loss: 0.3587 - acc: 0.9174 - val_loss: 0.4269 - val_acc: 0.8837\n",
      "Epoch 34/50\n",
      "Epoch 00033: val_loss improved from 0.41927 to 0.41812, saving model to saved_model/lstm_conv.hdf5\n",
      "2798s - loss: 0.3535 - acc: 0.9191 - val_loss: 0.4181 - val_acc: 0.8860\n",
      "Epoch 35/50\n",
      "Epoch 00034: val_loss improved from 0.41812 to 0.41762, saving model to saved_model/lstm_conv.hdf5\n",
      "2843s - loss: 0.3472 - acc: 0.9218 - val_loss: 0.4176 - val_acc: 0.8940\n",
      "Epoch 36/50\n",
      "Epoch 00035: val_loss improved from 0.41762 to 0.40655, saving model to saved_model/lstm_conv.hdf5\n",
      "2748s - loss: 0.3406 - acc: 0.9216 - val_loss: 0.4065 - val_acc: 0.8912\n",
      "Epoch 37/50\n",
      "Epoch 00036: val_loss did not improve\n",
      "2780s - loss: 0.3386 - acc: 0.9214 - val_loss: 0.4323 - val_acc: 0.8831\n",
      "Epoch 38/50\n",
      "Epoch 00037: val_loss improved from 0.40655 to 0.40600, saving model to saved_model/lstm_conv.hdf5\n",
      "2807s - loss: 0.3351 - acc: 0.9228 - val_loss: 0.4060 - val_acc: 0.8922\n",
      "Epoch 39/50\n",
      "Epoch 00038: val_loss did not improve\n",
      "2829s - loss: 0.3294 - acc: 0.9249 - val_loss: 0.4304 - val_acc: 0.8827\n",
      "Epoch 40/50\n",
      "Epoch 00039: val_loss improved from 0.40600 to 0.40143, saving model to saved_model/lstm_conv.hdf5\n",
      "2763s - loss: 0.3265 - acc: 0.9261 - val_loss: 0.4014 - val_acc: 0.8924\n",
      "Epoch 41/50\n",
      "Epoch 00040: val_loss improved from 0.40143 to 0.40029, saving model to saved_model/lstm_conv.hdf5\n",
      "2814s - loss: 0.3208 - acc: 0.9251 - val_loss: 0.4003 - val_acc: 0.8938\n",
      "Epoch 42/50\n",
      "Epoch 00041: val_loss improved from 0.40029 to 0.39637, saving model to saved_model/lstm_conv.hdf5\n",
      "2827s - loss: 0.3179 - acc: 0.9268 - val_loss: 0.3964 - val_acc: 0.8941\n",
      "Epoch 43/50\n",
      "Epoch 00042: val_loss improved from 0.39637 to 0.39369, saving model to saved_model/lstm_conv.hdf5\n",
      "2833s - loss: 0.3113 - acc: 0.9282 - val_loss: 0.3937 - val_acc: 0.8942\n",
      "Epoch 44/50\n",
      "Epoch 00043: val_loss did not improve\n",
      "2628s - loss: 0.3070 - acc: 0.9298 - val_loss: 0.3974 - val_acc: 0.8933\n",
      "Epoch 45/50\n",
      "Epoch 00044: val_loss did not improve\n",
      "2629s - loss: 0.3053 - acc: 0.9308 - val_loss: 0.4243 - val_acc: 0.8855\n",
      "Epoch 46/50\n",
      "Epoch 00045: val_loss improved from 0.39369 to 0.39207, saving model to saved_model/lstm_conv.hdf5\n",
      "2628s - loss: 0.3007 - acc: 0.9317 - val_loss: 0.3921 - val_acc: 0.8906\n",
      "Epoch 47/50\n",
      "Epoch 00046: val_loss did not improve\n",
      "2626s - loss: 0.2954 - acc: 0.9339 - val_loss: 0.3922 - val_acc: 0.8930\n",
      "Epoch 48/50\n",
      "Epoch 00047: val_loss did not improve\n",
      "2615s - loss: 0.2938 - acc: 0.9344 - val_loss: 0.3970 - val_acc: 0.8932\n",
      "Epoch 49/50\n",
      "Epoch 00048: val_loss did not improve\n",
      "2627s - loss: 0.2868 - acc: 0.9356 - val_loss: 0.4334 - val_acc: 0.8871\n",
      "Epoch 50/50\n",
      "Epoch 00049: val_loss improved from 0.39207 to 0.38453, saving model to saved_model/lstm_conv.hdf5\n",
      "2625s - loss: 0.2887 - acc: 0.9342 - val_loss: 0.3845 - val_acc: 0.8920\n"
     ]
    },
    {
     "data": {
      "text/plain": [
       "<keras.callbacks.History at 0xa92952bba8>"
      ]
     },
     "execution_count": 209,
     "metadata": {},
     "output_type": "execute_result"
    }
   ],
   "source": [
    "epochs = 50\n",
    "checkpointer = ModelCheckpoint(filepath='saved_model/lstm_conv.hdf5', verbose=1, save_best_only=True)\n",
    "\n",
    "model.fit(train_data_vec, train_label, \n",
    "          validation_data=(test_data_vec, test_label),\n",
    "          epochs=epochs, batch_size=64, callbacks=[checkpointer], verbose=2)"
   ]
  },
  {
   "cell_type": "code",
   "execution_count": 20,
   "metadata": {
    "collapsed": false,
    "deletable": true,
    "editable": true
   },
   "outputs": [],
   "source": [
    "model.load_weights('saved_model/lstm_conv.hdf5')\n",
    "score = model.evaluate(test_data_vec, test_label, verbose=0)"
   ]
  },
  {
   "cell_type": "code",
   "execution_count": 21,
   "metadata": {
    "collapsed": false,
    "deletable": true,
    "editable": true
   },
   "outputs": [],
   "source": [
    "predicted_class = model.predict_classes(test_data_vec, verbose=0)"
   ]
  },
  {
   "cell_type": "code",
   "execution_count": 22,
   "metadata": {
    "collapsed": false,
    "deletable": true,
    "editable": true
   },
   "outputs": [],
   "source": [
    "test_label_int = [ int(x) for x in test_label ]\n",
    "f1 = f1_score(test_label_int, predicted_class)"
   ]
  },
  {
   "cell_type": "code",
   "execution_count": 233,
   "metadata": {
    "collapsed": false,
    "deletable": true,
    "editable": true
   },
   "outputs": [
    {
     "name": "stdout",
     "output_type": "stream",
     "text": [
      "The accuracy of the refined LSTM model is 89.2%\n",
      "The F1 score of the refined LSTM model is 0.9\n"
     ]
    }
   ],
   "source": [
    "print(\"The accuracy of the refined LSTM model is {0}%\".format(round(score[1]*100,1)))\n",
    "print(\"The F1 score of the refined LSTM model is {0}\".format(round(f1,1)))"
   ]
  },
  {
   "cell_type": "code",
   "execution_count": 28,
   "metadata": {
    "collapsed": false,
    "deletable": true,
    "editable": true
   },
   "outputs": [
    {
     "data": {
      "text/plain": [
       "<matplotlib.text.Text at 0x1f4b066e48>"
      ]
     },
     "execution_count": 28,
     "metadata": {},
     "output_type": "execute_result"
    },
    {
     "data": {
      "image/png": "[encoded data removed]",
      "text/plain": [
       "<matplotlib.figure.Figure at 0x1f4a58d9b0>"
      ]
     },
     "metadata": {},
     "output_type": "display_data"
    }
   ],
   "source": [
    "from sklearn.metrics import confusion_matrix\n",
    "\n",
    "cm = confusion_matrix(test_label_int, predicted_class)\n",
    "plt.figure(figsize = (10,5))\n",
    "sns.heatmap(cm, annot=True, cmap='Blues', xticklabels=['no', 'yes'], yticklabels=['no', 'yes'])\n",
    "plt.ylabel('True label')\n",
    "plt.xlabel('Predicted label')\n",
    "plt.title('Confusion matrix for:\\n{}'.format(model.__class__.__name__))"
   ]
  },
  {
   "cell_type": "code",
   "execution_count": null,
   "metadata": {
    "collapsed": true,
    "deletable": true,
    "editable": true
   },
   "outputs": [],
   "source": []
  }
 ],
 "metadata": {
  "anaconda-cloud": {},
  "kernelspec": {
   "display_name": "Python [conda env:aind-dog]",
   "language": "python",
   "name": "conda-env-aind-dog-py"
  },
  "language_info": {
   "codemirror_mode": {
    "name": "ipython",
    "version": 3
   },
   "file_extension": ".py",
   "mimetype": "text/x-python",
   "name": "python",
   "nbconvert_exporter": "python",
   "pygments_lexer": "ipython3",
   "version": "3.5.3"
  }
 },
 "nbformat": 4,
 "nbformat_minor": 2
}
